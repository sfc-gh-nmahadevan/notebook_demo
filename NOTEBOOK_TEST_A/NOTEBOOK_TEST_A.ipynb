{
 "metadata": {
  "kernelspec": {
   "display_name": "Streamlit Notebook",
   "name": "streamlit"
  },
  "lastEditStatus": {
   "notebookId": "64den5qa7dkzc2jyq2mq",
   "authorId": "119811836266",
   "authorName": "NMAHADEVAN",
   "authorEmail": "naga.mahadevan@snowflake.com",
   "sessionId": "23630f45-50f1-442e-b24d-932b2df702c5",
   "lastEditTime": 1738038890658
  }
 },
 "nbformat_minor": 5,
 "nbformat": 4,
 "cells": [
  {
   "cell_type": "code",
   "id": "3775908f-ca36-4846-8f38-5adca39217f2",
   "metadata": {
    "language": "python",
    "name": "cell1"
   },
   "source": "import pandas as pd\nimport numpy\n",
   "execution_count": null,
   "outputs": []
  },
  {
   "cell_type": "code",
   "id": "8d50cbf4-0c8d-4950-86cb-114990437ac9",
   "metadata": {
    "language": "python",
    "name": "cell2"
   },
   "source": "def sample_func_def():\n    a = \"sample string\"\n    return a    ",
   "execution_count": null,
   "outputs": []
  },
  {
   "cell_type": "code",
   "id": "c695373e-ac74-4b62-a1f1-08206cbd5c81",
   "metadata": {
    "language": "python",
    "name": "cell3"
   },
   "source": "def return_pd_df():\n    df = pd.DataFrame({'Name': ['Alice', 'Bob', 'Charlie'], 'ID': [1, 2, 3]})\n    return df",
   "execution_count": null,
   "outputs": []
  }
 ]
}