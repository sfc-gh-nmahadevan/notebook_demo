{
 "metadata": {
  "kernelspec": {
   "display_name": "Streamlit Notebook",
   "name": "streamlit"
  },
  "lastEditStatus": {
   "notebookId": "ogqqzqh6rcqlaaabxirw",
   "authorId": "119811836266",
   "authorName": "NMAHADEVAN",
   "authorEmail": "naga.mahadevan@snowflake.com",
   "sessionId": "77f3b42f-0ce3-4211-b7c6-3d38e16ab2d5",
   "lastEditTime": 1738041268783
  }
 },
 "nbformat_minor": 5,
 "nbformat": 4,
 "cells": [
  {
   "cell_type": "code",
   "id": "3775908f-ca36-4846-8f38-5adca39217f2",
   "metadata": {
    "language": "python",
    "name": "cell1",
    "collapsed": false
   },
   "source": "# Import python packages\nimport streamlit as st\nimport pandas as pd\n# import import_ipynb\n# We can also use Snowpark for our analyses!\nfrom snowflake.snowpark.context import get_active_session\nsession = get_active_session()\nimport os",
   "execution_count": null,
   "outputs": []
  },
  {
   "cell_type": "code",
   "id": "8a2ecb10-9351-40f4-9125-8bb0b096a62c",
   "metadata": {
    "language": "sql",
    "name": "cell5"
   },
   "outputs": [],
   "source": "describe notebook notebook_test_a",
   "execution_count": null
  },
  {
   "cell_type": "code",
   "id": "8d50cbf4-0c8d-4950-86cb-114990437ac9",
   "metadata": {
    "language": "python",
    "name": "cell2"
   },
   "source": "# remember to add IPython and nbformat to the notebook packages\nimport os, sys, types\nfrom nbformat import read\nfrom snowflake.snowpark import Session\nfrom IPython.core.inputtransformer2 import TransformerManager\ninput_transformer_manager = TransformerManager()\n_session = Session.builder.getOrCreate()\nclass NotebookLoader(object):\n    \"\"\"Module Loader for Snowflake Notebooks\"\"\"\n    def __init__(self, path=None):\n        self.path = path\n    def load_module(self, fullname):\n        \"\"\"import a notebook as a module\"\"\"\n        path = find_notebook(fullname, self.path)\n        print (\"importing notebook from %s\" % path)\n        f = _session.file.get_stream(path)\n        # load the notebook object\n        nb = read(f, 4)\n        # create the module and add it to sys.modules if name in sys.modules:\n        mod = types.ModuleType(fullname)\n        mod.__file__ = path\n        mod.__loader__ = self\n        sys.modules[fullname] = mod\n        try:\n          for cell in nb.cells:\n            if cell.cell_type == 'code':\n                # transform the input to executable Python\n                code = input_transformer_manager.transform_cell(cell.source)\n                # run the code in themodule\n                exec(code, mod.__dict__)\n        finally:\n            pass\n        return mod\n\n\nclass NotebookFinder(object):\n    \"\"\"Module finder that locates Jupyter Notebooks\"\"\"\n    def __init__(self):\n        self.loaders = {}\n\n    def find_module(self, fullname, path=None):\n        nb_path = find_notebook(fullname)\n        if not nb_path:\n            return\n        key = path\n        if key not in self.loaders:\n            self.loaders[key] = NotebookLoader(path)\n        return self.loaders[key]\n\ndef find_notebook(fullname, path=None):\n    try:\n        notebook_root = _session.sql(f\"describe notebook {fullname}\").select('\"live_version_location_uri\"').collect()[0][0]\n        notebook_name = _session.sql(f\"describe notebook {fullname}\").select('\"main_file\"').collect()[0][0]\n        notebook_location = '/tmp/appRoot/' + notebook_name\n        print(f\"Location of the notebooks is: {notebook_location}\")\n        return notebook_location\n    except:\n        return \"\"\n\nclass NotebookFinder(object):\n    \"\"\"Module finder that locates Jupyter Notebooks\"\"\"\n    def __init__(self,database:str=None,schema:str=None):\n        self.loaders = {}\n        self.database = database\n        self.schema = schema\n    def find_module(self, fullname, path=None):\n        if self.database and self.schema:\n            fullname = self.database + \".\" + self.schema + \".\" + fullname\n        print(f\"Finding {fullname}\")\n        nb_path = find_notebook(fullname)\n        if not nb_path:\n            return\n        key = path\n        if path:\n            # lists aren't hashable\n            key = os.path.sep.join(path)\n        if key not in self.loaders:\n            self.loaders[key] = NotebookLoader(path)\n        return self.loaders[key]",
   "execution_count": null,
   "outputs": []
  },
  {
   "cell_type": "code",
   "id": "c695373e-ac74-4b62-a1f1-08206cbd5c81",
   "metadata": {
    "language": "python",
    "name": "cell3"
   },
   "source": "sys.meta_path.append(NotebookFinder())",
   "execution_count": null,
   "outputs": []
  },
  {
   "cell_type": "code",
   "id": "f145827d-f2e4-4aeb-9cd7-ff7c565c3077",
   "metadata": {
    "language": "python",
    "name": "cell4"
   },
   "outputs": [],
   "source": "import notebook_test_a",
   "execution_count": null
  }
 ]
}